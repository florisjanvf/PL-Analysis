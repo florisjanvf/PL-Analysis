{
 "cells": [
  {
   "cell_type": "code",
   "execution_count": 2,
   "outputs": [],
   "source": [
    "import numpy as np\n",
    "import pandas as pd"
   ],
   "metadata": {
    "collapsed": false,
    "pycharm": {
     "name": "#%%\n"
    }
   }
  },
  {
   "cell_type": "code",
   "execution_count": 3,
   "outputs": [],
   "source": [
    "data = pd.read_csv(filepath_or_buffer='data/2018-2019/matches.csv')"
   ],
   "metadata": {
    "collapsed": false,
    "pycharm": {
     "name": "#%%\n"
    }
   }
  },
  {
   "cell_type": "code",
   "execution_count": 8,
   "outputs": [
    {
     "data": {
      "text/plain": "    timestamp               date_GMT    status  attendance  \\\n0  1533927600   Aug 10 2018 - 7:00pm  complete       74439   \n1  1533987000  Aug 11 2018 - 11:30am  complete       51749   \n2  1533996000   Aug 11 2018 - 2:00pm  complete       10353   \n3  1533996000   Aug 11 2018 - 2:00pm  complete       24821   \n4  1533996000   Aug 11 2018 - 2:00pm  complete       24121   \n5  1533996000   Aug 11 2018 - 2:00pm  complete       20051   \n6  1534005000   Aug 11 2018 - 4:30pm  complete       31231   \n\n            home_team_name          away_team_name          referee  \\\n0        Manchester United          Leicester City   Andre Marriner   \n1         Newcastle United       Tottenham Hotspur  Martin Atkinson   \n2          AFC Bournemouth            Cardiff City     Kevin Friend   \n3                   Fulham          Crystal Palace        Mike Dean   \n4        Huddersfield Town                 Chelsea   Chris Kavanagh   \n5                  Watford  Brighton & Hove Albion    Jonathan Moss   \n6  Wolverhampton Wanderers                 Everton     Craig Pawson   \n\n   Game Week  Pre-Match PPG (Home)  Pre-Match PPG (Away)  ...  \\\n0          1                   0.0                   0.0  ...   \n1          1                   0.0                   0.0  ...   \n2          1                   0.0                   0.0  ...   \n3          1                   0.0                   0.0  ...   \n4          1                   0.0                   0.0  ...   \n5          1                   0.0                   0.0  ...   \n6          1                   0.0                   0.0  ...   \n\n   odds_ft_home_team_win  odds_ft_draw  odds_ft_away_team_win  odds_ft_over15  \\\n0                   1.37          4.98                   9.81            1.33   \n1                   4.51          3.77                   1.84            1.31   \n2                   2.03          3.51                   3.96            1.31   \n3                   2.31          3.44                   3.26            1.28   \n4                   7.47          4.27                   1.51            1.29   \n5                   2.26          3.35                   3.45            1.44   \n6                   2.57          3.39                   2.89            1.39   \n\n   odds_ft_over25  odds_ft_over35  odds_ft_over45  odds_btts_yes odds_btts_no  \\\n0            2.00            3.60            7.50           2.05         1.69   \n1            1.95            3.50            5.75           1.83         1.87   \n2            1.95            3.45            6.70           1.83         1.83   \n3            1.87            3.20            7.00           1.71         2.00   \n4            1.91            3.30            6.95           2.00         1.71   \n5            2.35            4.55            9.50           2.00         1.71   \n6            2.20            4.10            9.00           1.91         1.77   \n\n                                        stadium_name  \n0                          Old Trafford (Manchester)  \n1              St. James' Park (Newcastle upon Tyne)  \n2             Vitality Stadium (Bournemouth- Dorset)  \n3                            Craven Cottage (London)  \n4  John Smith's Stadium (Huddersfield- West Yorks...  \n5                            Vicarage Road (Watford)  \n6    Molineux Stadium (Wolverhampton- West Midlands)  \n\n[7 rows x 64 columns]",
      "text/html": "<div>\n<style scoped>\n    .dataframe tbody tr th:only-of-type {\n        vertical-align: middle;\n    }\n\n    .dataframe tbody tr th {\n        vertical-align: top;\n    }\n\n    .dataframe thead th {\n        text-align: right;\n    }\n</style>\n<table border=\"1\" class=\"dataframe\">\n  <thead>\n    <tr style=\"text-align: right;\">\n      <th></th>\n      <th>timestamp</th>\n      <th>date_GMT</th>\n      <th>status</th>\n      <th>attendance</th>\n      <th>home_team_name</th>\n      <th>away_team_name</th>\n      <th>referee</th>\n      <th>Game Week</th>\n      <th>Pre-Match PPG (Home)</th>\n      <th>Pre-Match PPG (Away)</th>\n      <th>...</th>\n      <th>odds_ft_home_team_win</th>\n      <th>odds_ft_draw</th>\n      <th>odds_ft_away_team_win</th>\n      <th>odds_ft_over15</th>\n      <th>odds_ft_over25</th>\n      <th>odds_ft_over35</th>\n      <th>odds_ft_over45</th>\n      <th>odds_btts_yes</th>\n      <th>odds_btts_no</th>\n      <th>stadium_name</th>\n    </tr>\n  </thead>\n  <tbody>\n    <tr>\n      <th>0</th>\n      <td>1533927600</td>\n      <td>Aug 10 2018 - 7:00pm</td>\n      <td>complete</td>\n      <td>74439</td>\n      <td>Manchester United</td>\n      <td>Leicester City</td>\n      <td>Andre Marriner</td>\n      <td>1</td>\n      <td>0.0</td>\n      <td>0.0</td>\n      <td>...</td>\n      <td>1.37</td>\n      <td>4.98</td>\n      <td>9.81</td>\n      <td>1.33</td>\n      <td>2.00</td>\n      <td>3.60</td>\n      <td>7.50</td>\n      <td>2.05</td>\n      <td>1.69</td>\n      <td>Old Trafford (Manchester)</td>\n    </tr>\n    <tr>\n      <th>1</th>\n      <td>1533987000</td>\n      <td>Aug 11 2018 - 11:30am</td>\n      <td>complete</td>\n      <td>51749</td>\n      <td>Newcastle United</td>\n      <td>Tottenham Hotspur</td>\n      <td>Martin Atkinson</td>\n      <td>1</td>\n      <td>0.0</td>\n      <td>0.0</td>\n      <td>...</td>\n      <td>4.51</td>\n      <td>3.77</td>\n      <td>1.84</td>\n      <td>1.31</td>\n      <td>1.95</td>\n      <td>3.50</td>\n      <td>5.75</td>\n      <td>1.83</td>\n      <td>1.87</td>\n      <td>St. James' Park (Newcastle upon Tyne)</td>\n    </tr>\n    <tr>\n      <th>2</th>\n      <td>1533996000</td>\n      <td>Aug 11 2018 - 2:00pm</td>\n      <td>complete</td>\n      <td>10353</td>\n      <td>AFC Bournemouth</td>\n      <td>Cardiff City</td>\n      <td>Kevin Friend</td>\n      <td>1</td>\n      <td>0.0</td>\n      <td>0.0</td>\n      <td>...</td>\n      <td>2.03</td>\n      <td>3.51</td>\n      <td>3.96</td>\n      <td>1.31</td>\n      <td>1.95</td>\n      <td>3.45</td>\n      <td>6.70</td>\n      <td>1.83</td>\n      <td>1.83</td>\n      <td>Vitality Stadium (Bournemouth- Dorset)</td>\n    </tr>\n    <tr>\n      <th>3</th>\n      <td>1533996000</td>\n      <td>Aug 11 2018 - 2:00pm</td>\n      <td>complete</td>\n      <td>24821</td>\n      <td>Fulham</td>\n      <td>Crystal Palace</td>\n      <td>Mike Dean</td>\n      <td>1</td>\n      <td>0.0</td>\n      <td>0.0</td>\n      <td>...</td>\n      <td>2.31</td>\n      <td>3.44</td>\n      <td>3.26</td>\n      <td>1.28</td>\n      <td>1.87</td>\n      <td>3.20</td>\n      <td>7.00</td>\n      <td>1.71</td>\n      <td>2.00</td>\n      <td>Craven Cottage (London)</td>\n    </tr>\n    <tr>\n      <th>4</th>\n      <td>1533996000</td>\n      <td>Aug 11 2018 - 2:00pm</td>\n      <td>complete</td>\n      <td>24121</td>\n      <td>Huddersfield Town</td>\n      <td>Chelsea</td>\n      <td>Chris Kavanagh</td>\n      <td>1</td>\n      <td>0.0</td>\n      <td>0.0</td>\n      <td>...</td>\n      <td>7.47</td>\n      <td>4.27</td>\n      <td>1.51</td>\n      <td>1.29</td>\n      <td>1.91</td>\n      <td>3.30</td>\n      <td>6.95</td>\n      <td>2.00</td>\n      <td>1.71</td>\n      <td>John Smith's Stadium (Huddersfield- West Yorks...</td>\n    </tr>\n    <tr>\n      <th>5</th>\n      <td>1533996000</td>\n      <td>Aug 11 2018 - 2:00pm</td>\n      <td>complete</td>\n      <td>20051</td>\n      <td>Watford</td>\n      <td>Brighton &amp; Hove Albion</td>\n      <td>Jonathan Moss</td>\n      <td>1</td>\n      <td>0.0</td>\n      <td>0.0</td>\n      <td>...</td>\n      <td>2.26</td>\n      <td>3.35</td>\n      <td>3.45</td>\n      <td>1.44</td>\n      <td>2.35</td>\n      <td>4.55</td>\n      <td>9.50</td>\n      <td>2.00</td>\n      <td>1.71</td>\n      <td>Vicarage Road (Watford)</td>\n    </tr>\n    <tr>\n      <th>6</th>\n      <td>1534005000</td>\n      <td>Aug 11 2018 - 4:30pm</td>\n      <td>complete</td>\n      <td>31231</td>\n      <td>Wolverhampton Wanderers</td>\n      <td>Everton</td>\n      <td>Craig Pawson</td>\n      <td>1</td>\n      <td>0.0</td>\n      <td>0.0</td>\n      <td>...</td>\n      <td>2.57</td>\n      <td>3.39</td>\n      <td>2.89</td>\n      <td>1.39</td>\n      <td>2.20</td>\n      <td>4.10</td>\n      <td>9.00</td>\n      <td>1.91</td>\n      <td>1.77</td>\n      <td>Molineux Stadium (Wolverhampton- West Midlands)</td>\n    </tr>\n  </tbody>\n</table>\n<p>7 rows × 64 columns</p>\n</div>"
     },
     "execution_count": 8,
     "metadata": {},
     "output_type": "execute_result"
    }
   ],
   "source": [
    "data.head(7)"
   ],
   "metadata": {
    "collapsed": false,
    "pycharm": {
     "name": "#%%\n"
    }
   }
  },
  {
   "cell_type": "code",
   "execution_count": 9,
   "outputs": [
    {
     "name": "stdout",
     "output_type": "stream",
     "text": [
      "<class 'pandas.core.frame.DataFrame'>\n",
      "RangeIndex: 380 entries, 0 to 379\n",
      "Data columns (total 64 columns):\n",
      " #   Column                               Non-Null Count  Dtype  \n",
      "---  ------                               --------------  -----  \n",
      " 0   timestamp                            380 non-null    int64  \n",
      " 1   date_GMT                             380 non-null    object \n",
      " 2   status                               380 non-null    object \n",
      " 3   attendance                           380 non-null    int64  \n",
      " 4   home_team_name                       380 non-null    object \n",
      " 5   away_team_name                       380 non-null    object \n",
      " 6   referee                              380 non-null    object \n",
      " 7   Game Week                            380 non-null    int64  \n",
      " 8   Pre-Match PPG (Home)                 380 non-null    float64\n",
      " 9   Pre-Match PPG (Away)                 380 non-null    float64\n",
      " 10  home_ppg                             380 non-null    float64\n",
      " 11  away_ppg                             380 non-null    float64\n",
      " 12  home_team_goal_count                 380 non-null    int64  \n",
      " 13  away_team_goal_count                 380 non-null    int64  \n",
      " 14  total_goal_count                     380 non-null    int64  \n",
      " 15  total_goals_at_half_time             380 non-null    int64  \n",
      " 16  home_team_goal_count_half_time       380 non-null    int64  \n",
      " 17  away_team_goal_count_half_time       380 non-null    int64  \n",
      " 18  home_team_goal_timings               292 non-null    object \n",
      " 19  away_team_goal_timings               261 non-null    object \n",
      " 20  home_team_corner_count               380 non-null    int64  \n",
      " 21  away_team_corner_count               380 non-null    int64  \n",
      " 22  home_team_yellow_cards               380 non-null    int64  \n",
      " 23  home_team_red_cards                  380 non-null    int64  \n",
      " 24  away_team_yellow_cards               380 non-null    int64  \n",
      " 25  away_team_red_cards                  380 non-null    int64  \n",
      " 26  home_team_first_half_cards           380 non-null    int64  \n",
      " 27  home_team_second_half_cards          380 non-null    int64  \n",
      " 28  away_team_first_half_cards           380 non-null    int64  \n",
      " 29  away_team_second_half_cards          380 non-null    int64  \n",
      " 30  home_team_shots                      380 non-null    int64  \n",
      " 31  away_team_shots                      380 non-null    int64  \n",
      " 32  home_team_shots_on_target            380 non-null    int64  \n",
      " 33  away_team_shots_on_target            380 non-null    int64  \n",
      " 34  home_team_shots_off_target           380 non-null    int64  \n",
      " 35  away_team_shots_off_target           380 non-null    int64  \n",
      " 36  home_team_fouls                      380 non-null    int64  \n",
      " 37  away_team_fouls                      380 non-null    int64  \n",
      " 38  home_team_possession                 380 non-null    int64  \n",
      " 39  away_team_possession                 380 non-null    int64  \n",
      " 40  team_a_xg                            380 non-null    float64\n",
      " 41  team_b_xg                            380 non-null    float64\n",
      " 42  average_goals_per_match_pre_match    380 non-null    float64\n",
      " 43  btts_percentage_pre_match            380 non-null    int64  \n",
      " 44  over_15_percentage_pre_match         380 non-null    int64  \n",
      " 45  over_25_percentage_pre_match         380 non-null    int64  \n",
      " 46  over_35_percentage_pre_match         380 non-null    int64  \n",
      " 47  over_45_percentage_pre_match         380 non-null    int64  \n",
      " 48  over_15_HT_FHG_percentage_pre_match  380 non-null    int64  \n",
      " 49  over_05_HT_FHG_percentage_pre_match  380 non-null    int64  \n",
      " 50  over_15_2HG_percentage_pre_match     380 non-null    int64  \n",
      " 51  over_05_2HG_percentage_pre_match     380 non-null    int64  \n",
      " 52  average_corners_per_match_pre_match  380 non-null    float64\n",
      " 53  average_cards_per_match_pre_match    380 non-null    float64\n",
      " 54  odds_ft_home_team_win                380 non-null    float64\n",
      " 55  odds_ft_draw                         380 non-null    float64\n",
      " 56  odds_ft_away_team_win                380 non-null    float64\n",
      " 57  odds_ft_over15                       380 non-null    float64\n",
      " 58  odds_ft_over25                       380 non-null    float64\n",
      " 59  odds_ft_over35                       380 non-null    float64\n",
      " 60  odds_ft_over45                       380 non-null    float64\n",
      " 61  odds_btts_yes                        380 non-null    float64\n",
      " 62  odds_btts_no                         380 non-null    float64\n",
      " 63  stadium_name                         380 non-null    object \n",
      "dtypes: float64(18), int64(38), object(8)\n",
      "memory usage: 190.1+ KB\n"
     ]
    }
   ],
   "source": [
    "data.info()"
   ],
   "metadata": {
    "collapsed": false,
    "pycharm": {
     "name": "#%%\n"
    }
   }
  },
  {
   "cell_type": "code",
   "execution_count": 11,
   "outputs": [
    {
     "data": {
      "text/plain": "timestamp         False\ndate_GMT          False\nstatus            False\nattendance        False\nhome_team_name    False\n                  ...  \nodds_ft_over35    False\nodds_ft_over45    False\nodds_btts_yes     False\nodds_btts_no      False\nstadium_name      False\nLength: 64, dtype: bool"
     },
     "execution_count": 11,
     "metadata": {},
     "output_type": "execute_result"
    }
   ],
   "source": [
    "# check whether we have any NA values in our entire dataframe\n",
    "data.isna().any().any()"
   ],
   "metadata": {
    "collapsed": false,
    "pycharm": {
     "name": "#%%\n"
    }
   }
  },
  {
   "cell_type": "code",
   "execution_count": 35,
   "outputs": [
    {
     "data": {
      "text/plain": "home_team_goal_timings    True\naway_team_goal_timings    True\ndtype: bool"
     },
     "execution_count": 35,
     "metadata": {},
     "output_type": "execute_result"
    }
   ],
   "source": [
    "# check which columns have missing values (2 different methods)\n",
    "# data.isna().any().loc[lambda x: x == True]\n",
    "data.isna().any().loc[data.isna().any() == True]"
   ],
   "metadata": {
    "collapsed": false,
    "pycharm": {
     "name": "#%%\n"
    }
   }
  },
  {
   "cell_type": "code",
   "execution_count": null,
   "outputs": [],
   "source": [],
   "metadata": {
    "collapsed": false,
    "pycharm": {
     "name": "#%%\n"
    }
   }
  }
 ],
 "metadata": {
  "kernelspec": {
   "display_name": "Python 3",
   "language": "python",
   "name": "python3"
  },
  "language_info": {
   "codemirror_mode": {
    "name": "ipython",
    "version": 2
   },
   "file_extension": ".py",
   "mimetype": "text/x-python",
   "name": "python",
   "nbconvert_exporter": "python",
   "pygments_lexer": "ipython2",
   "version": "2.7.6"
  }
 },
 "nbformat": 4,
 "nbformat_minor": 0
}