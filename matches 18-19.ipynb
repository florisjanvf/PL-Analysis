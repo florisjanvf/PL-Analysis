{
 "cells": [
  {
   "cell_type": "code",
   "execution_count": 1,
   "outputs": [],
   "source": [
    "import numpy as np\n",
    "import pandas as pd"
   ],
   "metadata": {
    "collapsed": false,
    "pycharm": {
     "name": "#%%\n"
    }
   }
  },
  {
   "cell_type": "code",
   "execution_count": 2,
   "outputs": [],
   "source": [
    "data = pd.read_csv(filepath_or_buffer='data/2018-2019/matches.csv')"
   ],
   "metadata": {
    "collapsed": false,
    "pycharm": {
     "name": "#%%\n"
    }
   }
  },
  {
   "cell_type": "code",
   "execution_count": 3,
   "outputs": [
    {
     "data": {
      "text/plain": "    timestamp               date_GMT    status  attendance  \\\n0  1533927600   Aug 10 2018 - 7:00pm  complete       74439   \n1  1533987000  Aug 11 2018 - 11:30am  complete       51749   \n2  1533996000   Aug 11 2018 - 2:00pm  complete       10353   \n3  1533996000   Aug 11 2018 - 2:00pm  complete       24821   \n4  1533996000   Aug 11 2018 - 2:00pm  complete       24121   \n5  1533996000   Aug 11 2018 - 2:00pm  complete       20051   \n6  1534005000   Aug 11 2018 - 4:30pm  complete       31231   \n\n            home_team_name          away_team_name          referee  \\\n0        Manchester United          Leicester City   Andre Marriner   \n1         Newcastle United       Tottenham Hotspur  Martin Atkinson   \n2          AFC Bournemouth            Cardiff City     Kevin Friend   \n3                   Fulham          Crystal Palace        Mike Dean   \n4        Huddersfield Town                 Chelsea   Chris Kavanagh   \n5                  Watford  Brighton & Hove Albion    Jonathan Moss   \n6  Wolverhampton Wanderers                 Everton     Craig Pawson   \n\n   Game Week  Pre-Match PPG (Home)  Pre-Match PPG (Away)  ...  \\\n0          1                   0.0                   0.0  ...   \n1          1                   0.0                   0.0  ...   \n2          1                   0.0                   0.0  ...   \n3          1                   0.0                   0.0  ...   \n4          1                   0.0                   0.0  ...   \n5          1                   0.0                   0.0  ...   \n6          1                   0.0                   0.0  ...   \n\n   odds_ft_home_team_win  odds_ft_draw  odds_ft_away_team_win  odds_ft_over15  \\\n0                   1.37          4.98                   9.81            1.33   \n1                   4.51          3.77                   1.84            1.31   \n2                   2.03          3.51                   3.96            1.31   \n3                   2.31          3.44                   3.26            1.28   \n4                   7.47          4.27                   1.51            1.29   \n5                   2.26          3.35                   3.45            1.44   \n6                   2.57          3.39                   2.89            1.39   \n\n   odds_ft_over25  odds_ft_over35  odds_ft_over45  odds_btts_yes odds_btts_no  \\\n0            2.00            3.60            7.50           2.05         1.69   \n1            1.95            3.50            5.75           1.83         1.87   \n2            1.95            3.45            6.70           1.83         1.83   \n3            1.87            3.20            7.00           1.71         2.00   \n4            1.91            3.30            6.95           2.00         1.71   \n5            2.35            4.55            9.50           2.00         1.71   \n6            2.20            4.10            9.00           1.91         1.77   \n\n                                        stadium_name  \n0                          Old Trafford (Manchester)  \n1              St. James' Park (Newcastle upon Tyne)  \n2             Vitality Stadium (Bournemouth- Dorset)  \n3                            Craven Cottage (London)  \n4  John Smith's Stadium (Huddersfield- West Yorks...  \n5                            Vicarage Road (Watford)  \n6    Molineux Stadium (Wolverhampton- West Midlands)  \n\n[7 rows x 64 columns]",
      "text/html": "<div>\n<style scoped>\n    .dataframe tbody tr th:only-of-type {\n        vertical-align: middle;\n    }\n\n    .dataframe tbody tr th {\n        vertical-align: top;\n    }\n\n    .dataframe thead th {\n        text-align: right;\n    }\n</style>\n<table border=\"1\" class=\"dataframe\">\n  <thead>\n    <tr style=\"text-align: right;\">\n      <th></th>\n      <th>timestamp</th>\n      <th>date_GMT</th>\n      <th>status</th>\n      <th>attendance</th>\n      <th>home_team_name</th>\n      <th>away_team_name</th>\n      <th>referee</th>\n      <th>Game Week</th>\n      <th>Pre-Match PPG (Home)</th>\n      <th>Pre-Match PPG (Away)</th>\n      <th>...</th>\n      <th>odds_ft_home_team_win</th>\n      <th>odds_ft_draw</th>\n      <th>odds_ft_away_team_win</th>\n      <th>odds_ft_over15</th>\n      <th>odds_ft_over25</th>\n      <th>odds_ft_over35</th>\n      <th>odds_ft_over45</th>\n      <th>odds_btts_yes</th>\n      <th>odds_btts_no</th>\n      <th>stadium_name</th>\n    </tr>\n  </thead>\n  <tbody>\n    <tr>\n      <th>0</th>\n      <td>1533927600</td>\n      <td>Aug 10 2018 - 7:00pm</td>\n      <td>complete</td>\n      <td>74439</td>\n      <td>Manchester United</td>\n      <td>Leicester City</td>\n      <td>Andre Marriner</td>\n      <td>1</td>\n      <td>0.0</td>\n      <td>0.0</td>\n      <td>...</td>\n      <td>1.37</td>\n      <td>4.98</td>\n      <td>9.81</td>\n      <td>1.33</td>\n      <td>2.00</td>\n      <td>3.60</td>\n      <td>7.50</td>\n      <td>2.05</td>\n      <td>1.69</td>\n      <td>Old Trafford (Manchester)</td>\n    </tr>\n    <tr>\n      <th>1</th>\n      <td>1533987000</td>\n      <td>Aug 11 2018 - 11:30am</td>\n      <td>complete</td>\n      <td>51749</td>\n      <td>Newcastle United</td>\n      <td>Tottenham Hotspur</td>\n      <td>Martin Atkinson</td>\n      <td>1</td>\n      <td>0.0</td>\n      <td>0.0</td>\n      <td>...</td>\n      <td>4.51</td>\n      <td>3.77</td>\n      <td>1.84</td>\n      <td>1.31</td>\n      <td>1.95</td>\n      <td>3.50</td>\n      <td>5.75</td>\n      <td>1.83</td>\n      <td>1.87</td>\n      <td>St. James' Park (Newcastle upon Tyne)</td>\n    </tr>\n    <tr>\n      <th>2</th>\n      <td>1533996000</td>\n      <td>Aug 11 2018 - 2:00pm</td>\n      <td>complete</td>\n      <td>10353</td>\n      <td>AFC Bournemouth</td>\n      <td>Cardiff City</td>\n      <td>Kevin Friend</td>\n      <td>1</td>\n      <td>0.0</td>\n      <td>0.0</td>\n      <td>...</td>\n      <td>2.03</td>\n      <td>3.51</td>\n      <td>3.96</td>\n      <td>1.31</td>\n      <td>1.95</td>\n      <td>3.45</td>\n      <td>6.70</td>\n      <td>1.83</td>\n      <td>1.83</td>\n      <td>Vitality Stadium (Bournemouth- Dorset)</td>\n    </tr>\n    <tr>\n      <th>3</th>\n      <td>1533996000</td>\n      <td>Aug 11 2018 - 2:00pm</td>\n      <td>complete</td>\n      <td>24821</td>\n      <td>Fulham</td>\n      <td>Crystal Palace</td>\n      <td>Mike Dean</td>\n      <td>1</td>\n      <td>0.0</td>\n      <td>0.0</td>\n      <td>...</td>\n      <td>2.31</td>\n      <td>3.44</td>\n      <td>3.26</td>\n      <td>1.28</td>\n      <td>1.87</td>\n      <td>3.20</td>\n      <td>7.00</td>\n      <td>1.71</td>\n      <td>2.00</td>\n      <td>Craven Cottage (London)</td>\n    </tr>\n    <tr>\n      <th>4</th>\n      <td>1533996000</td>\n      <td>Aug 11 2018 - 2:00pm</td>\n      <td>complete</td>\n      <td>24121</td>\n      <td>Huddersfield Town</td>\n      <td>Chelsea</td>\n      <td>Chris Kavanagh</td>\n      <td>1</td>\n      <td>0.0</td>\n      <td>0.0</td>\n      <td>...</td>\n      <td>7.47</td>\n      <td>4.27</td>\n      <td>1.51</td>\n      <td>1.29</td>\n      <td>1.91</td>\n      <td>3.30</td>\n      <td>6.95</td>\n      <td>2.00</td>\n      <td>1.71</td>\n      <td>John Smith's Stadium (Huddersfield- West Yorks...</td>\n    </tr>\n    <tr>\n      <th>5</th>\n      <td>1533996000</td>\n      <td>Aug 11 2018 - 2:00pm</td>\n      <td>complete</td>\n      <td>20051</td>\n      <td>Watford</td>\n      <td>Brighton &amp; Hove Albion</td>\n      <td>Jonathan Moss</td>\n      <td>1</td>\n      <td>0.0</td>\n      <td>0.0</td>\n      <td>...</td>\n      <td>2.26</td>\n      <td>3.35</td>\n      <td>3.45</td>\n      <td>1.44</td>\n      <td>2.35</td>\n      <td>4.55</td>\n      <td>9.50</td>\n      <td>2.00</td>\n      <td>1.71</td>\n      <td>Vicarage Road (Watford)</td>\n    </tr>\n    <tr>\n      <th>6</th>\n      <td>1534005000</td>\n      <td>Aug 11 2018 - 4:30pm</td>\n      <td>complete</td>\n      <td>31231</td>\n      <td>Wolverhampton Wanderers</td>\n      <td>Everton</td>\n      <td>Craig Pawson</td>\n      <td>1</td>\n      <td>0.0</td>\n      <td>0.0</td>\n      <td>...</td>\n      <td>2.57</td>\n      <td>3.39</td>\n      <td>2.89</td>\n      <td>1.39</td>\n      <td>2.20</td>\n      <td>4.10</td>\n      <td>9.00</td>\n      <td>1.91</td>\n      <td>1.77</td>\n      <td>Molineux Stadium (Wolverhampton- West Midlands)</td>\n    </tr>\n  </tbody>\n</table>\n<p>7 rows × 64 columns</p>\n</div>"
     },
     "execution_count": 3,
     "metadata": {},
     "output_type": "execute_result"
    }
   ],
   "source": [
    "data.head(7)"
   ],
   "metadata": {
    "collapsed": false,
    "pycharm": {
     "name": "#%%\n"
    }
   }
  },
  {
   "cell_type": "code",
   "execution_count": 4,
   "outputs": [
    {
     "name": "stdout",
     "output_type": "stream",
     "text": [
      "<class 'pandas.core.frame.DataFrame'>\n",
      "RangeIndex: 380 entries, 0 to 379\n",
      "Data columns (total 64 columns):\n",
      " #   Column                               Non-Null Count  Dtype  \n",
      "---  ------                               --------------  -----  \n",
      " 0   timestamp                            380 non-null    int64  \n",
      " 1   date_GMT                             380 non-null    object \n",
      " 2   status                               380 non-null    object \n",
      " 3   attendance                           380 non-null    int64  \n",
      " 4   home_team_name                       380 non-null    object \n",
      " 5   away_team_name                       380 non-null    object \n",
      " 6   referee                              380 non-null    object \n",
      " 7   Game Week                            380 non-null    int64  \n",
      " 8   Pre-Match PPG (Home)                 380 non-null    float64\n",
      " 9   Pre-Match PPG (Away)                 380 non-null    float64\n",
      " 10  home_ppg                             380 non-null    float64\n",
      " 11  away_ppg                             380 non-null    float64\n",
      " 12  home_team_goal_count                 380 non-null    int64  \n",
      " 13  away_team_goal_count                 380 non-null    int64  \n",
      " 14  total_goal_count                     380 non-null    int64  \n",
      " 15  total_goals_at_half_time             380 non-null    int64  \n",
      " 16  home_team_goal_count_half_time       380 non-null    int64  \n",
      " 17  away_team_goal_count_half_time       380 non-null    int64  \n",
      " 18  home_team_goal_timings               292 non-null    object \n",
      " 19  away_team_goal_timings               261 non-null    object \n",
      " 20  home_team_corner_count               380 non-null    int64  \n",
      " 21  away_team_corner_count               380 non-null    int64  \n",
      " 22  home_team_yellow_cards               380 non-null    int64  \n",
      " 23  home_team_red_cards                  380 non-null    int64  \n",
      " 24  away_team_yellow_cards               380 non-null    int64  \n",
      " 25  away_team_red_cards                  380 non-null    int64  \n",
      " 26  home_team_first_half_cards           380 non-null    int64  \n",
      " 27  home_team_second_half_cards          380 non-null    int64  \n",
      " 28  away_team_first_half_cards           380 non-null    int64  \n",
      " 29  away_team_second_half_cards          380 non-null    int64  \n",
      " 30  home_team_shots                      380 non-null    int64  \n",
      " 31  away_team_shots                      380 non-null    int64  \n",
      " 32  home_team_shots_on_target            380 non-null    int64  \n",
      " 33  away_team_shots_on_target            380 non-null    int64  \n",
      " 34  home_team_shots_off_target           380 non-null    int64  \n",
      " 35  away_team_shots_off_target           380 non-null    int64  \n",
      " 36  home_team_fouls                      380 non-null    int64  \n",
      " 37  away_team_fouls                      380 non-null    int64  \n",
      " 38  home_team_possession                 380 non-null    int64  \n",
      " 39  away_team_possession                 380 non-null    int64  \n",
      " 40  team_a_xg                            380 non-null    float64\n",
      " 41  team_b_xg                            380 non-null    float64\n",
      " 42  average_goals_per_match_pre_match    380 non-null    float64\n",
      " 43  btts_percentage_pre_match            380 non-null    int64  \n",
      " 44  over_15_percentage_pre_match         380 non-null    int64  \n",
      " 45  over_25_percentage_pre_match         380 non-null    int64  \n",
      " 46  over_35_percentage_pre_match         380 non-null    int64  \n",
      " 47  over_45_percentage_pre_match         380 non-null    int64  \n",
      " 48  over_15_HT_FHG_percentage_pre_match  380 non-null    int64  \n",
      " 49  over_05_HT_FHG_percentage_pre_match  380 non-null    int64  \n",
      " 50  over_15_2HG_percentage_pre_match     380 non-null    int64  \n",
      " 51  over_05_2HG_percentage_pre_match     380 non-null    int64  \n",
      " 52  average_corners_per_match_pre_match  380 non-null    float64\n",
      " 53  average_cards_per_match_pre_match    380 non-null    float64\n",
      " 54  odds_ft_home_team_win                380 non-null    float64\n",
      " 55  odds_ft_draw                         380 non-null    float64\n",
      " 56  odds_ft_away_team_win                380 non-null    float64\n",
      " 57  odds_ft_over15                       380 non-null    float64\n",
      " 58  odds_ft_over25                       380 non-null    float64\n",
      " 59  odds_ft_over35                       380 non-null    float64\n",
      " 60  odds_ft_over45                       380 non-null    float64\n",
      " 61  odds_btts_yes                        380 non-null    float64\n",
      " 62  odds_btts_no                         380 non-null    float64\n",
      " 63  stadium_name                         380 non-null    object \n",
      "dtypes: float64(18), int64(38), object(8)\n",
      "memory usage: 190.1+ KB\n"
     ]
    }
   ],
   "source": [
    "data.info()"
   ],
   "metadata": {
    "collapsed": false,
    "pycharm": {
     "name": "#%%\n"
    }
   }
  },
  {
   "cell_type": "code",
   "execution_count": 5,
   "outputs": [
    {
     "data": {
      "text/plain": "True"
     },
     "execution_count": 5,
     "metadata": {},
     "output_type": "execute_result"
    }
   ],
   "source": [
    "# check whether we have any NA values in our entire dataframe\n",
    "data.isna().any().any()"
   ],
   "metadata": {
    "collapsed": false,
    "pycharm": {
     "name": "#%%\n"
    }
   }
  },
  {
   "cell_type": "code",
   "execution_count": 6,
   "outputs": [
    {
     "data": {
      "text/plain": "home_team_goal_timings    True\naway_team_goal_timings    True\ndtype: bool"
     },
     "execution_count": 6,
     "metadata": {},
     "output_type": "execute_result"
    }
   ],
   "source": [
    "# check which columns have missing values (2 different methods)\n",
    "# data.isna().any().loc[lambda x: x == True]\n",
    "data.isna().any().loc[data.isna().any() == True]"
   ],
   "metadata": {
    "collapsed": false,
    "pycharm": {
     "name": "#%%\n"
    }
   }
  },
  {
   "cell_type": "code",
   "execution_count": 7,
   "outputs": [
    {
     "data": {
      "text/plain": "      timestamp               date_GMT    status  attendance  \\\n279  1551529800  Mar 02 2019 - 12:30pm  complete       81332   \n40   1537011000  Sep 15 2018 - 11:30am  complete       80188   \n218  1547397000   Jan 13 2019 - 4:30pm  complete       80062   \n199  1546187400   Dec 30 2018 - 4:30pm  complete       74556   \n309  1553958000   Mar 30 2019 - 3:00pm  complete       74543   \n..          ...                    ...       ...         ...   \n2    1533996000   Aug 11 2018 - 2:00pm  complete       10353   \n207  1546459200   Jan 02 2019 - 8:00pm  complete       10261   \n236  1548877500   Jan 30 2019 - 7:45pm  complete       10227   \n69   1538420400   Oct 01 2018 - 7:00pm  complete       10199   \n140  1543952700   Dec 04 2018 - 7:45pm  complete        9980   \n\n        home_team_name     away_team_name         referee  Game Week  \\\n279  Tottenham Hotspur            Arsenal  Anthony Taylor         29   \n40   Tottenham Hotspur          Liverpool  Michael Oliver          5   \n218  Tottenham Hotspur  Manchester United       Mike Dean         22   \n199  Manchester United    AFC Bournemouth       Lee Mason         20   \n309  Manchester United            Watford  Stuart Attwell         32   \n..                 ...                ...             ...        ...   \n2      AFC Bournemouth       Cardiff City    Kevin Friend          1   \n207    AFC Bournemouth            Watford     David Coote         21   \n236    AFC Bournemouth            Chelsea      Roger East         24   \n69     AFC Bournemouth     Crystal Palace       Mike Dean          7   \n140    AFC Bournemouth  Huddersfield Town      Roger East         15   \n\n     Pre-Match PPG (Home)  Pre-Match PPG (Away)  ...  odds_ft_home_team_win  \\\n279                  2.08                  1.38  ...                   2.05   \n40                   3.00                  3.00  ...                   3.20   \n218                  2.00                  1.55  ...                   2.10   \n199                  2.00                  1.00  ...                   1.43   \n309                  2.07                  1.25  ...                   1.44   \n..                    ...                   ...  ...                    ...   \n2                    0.00                  0.00  ...                   2.03   \n207                  1.70                  1.33  ...                   2.65   \n236                  1.75                  2.00  ...                   5.35   \n69                   2.33                  2.00  ...                   2.25   \n140                  1.57                  0.83  ...                   1.74   \n\n     odds_ft_draw  odds_ft_away_team_win  odds_ft_over15  odds_ft_over25  \\\n279          3.55                   3.65            1.19            1.61   \n40           3.60                   2.30            1.19            1.62   \n218          3.50                   3.80            1.21            1.67   \n199          5.30                   7.00            1.16            1.53   \n309          4.75                   7.50            1.20            1.62   \n..            ...                    ...             ...             ...   \n2            3.51                   3.96            1.31            1.95   \n207          3.50                   2.70            1.22            1.69   \n236          4.15                   1.67            1.22            1.69   \n69           3.40                   3.35            1.24            1.74   \n140          3.75                   5.40            1.27            1.87   \n\n     odds_ft_over35  odds_ft_over45  odds_btts_yes odds_btts_no  \\\n279            2.50            4.50           1.53         2.45   \n40             2.55            4.50           1.50         2.40   \n218            2.70            4.50           1.53         2.25   \n199            2.30            4.40           1.71         1.91   \n309            2.60            4.45           1.80         2.00   \n..              ...             ...            ...          ...   \n2              3.45            6.70           1.83         1.83   \n207            2.75            4.75           1.53         2.20   \n236            2.75            4.75           1.71         2.10   \n69             2.90            4.25           1.62         2.10   \n140            3.20            6.20           1.83         1.87   \n\n                               stadium_name  \n279                Wembley Stadium (London)  \n40                 Wembley Stadium (London)  \n218                Wembley Stadium (London)  \n199               Old Trafford (Manchester)  \n309               Old Trafford (Manchester)  \n..                                      ...  \n2    Vitality Stadium (Bournemouth- Dorset)  \n207  Vitality Stadium (Bournemouth- Dorset)  \n236  Vitality Stadium (Bournemouth- Dorset)  \n69   Vitality Stadium (Bournemouth- Dorset)  \n140  Vitality Stadium (Bournemouth- Dorset)  \n\n[380 rows x 64 columns]",
      "text/html": "<div>\n<style scoped>\n    .dataframe tbody tr th:only-of-type {\n        vertical-align: middle;\n    }\n\n    .dataframe tbody tr th {\n        vertical-align: top;\n    }\n\n    .dataframe thead th {\n        text-align: right;\n    }\n</style>\n<table border=\"1\" class=\"dataframe\">\n  <thead>\n    <tr style=\"text-align: right;\">\n      <th></th>\n      <th>timestamp</th>\n      <th>date_GMT</th>\n      <th>status</th>\n      <th>attendance</th>\n      <th>home_team_name</th>\n      <th>away_team_name</th>\n      <th>referee</th>\n      <th>Game Week</th>\n      <th>Pre-Match PPG (Home)</th>\n      <th>Pre-Match PPG (Away)</th>\n      <th>...</th>\n      <th>odds_ft_home_team_win</th>\n      <th>odds_ft_draw</th>\n      <th>odds_ft_away_team_win</th>\n      <th>odds_ft_over15</th>\n      <th>odds_ft_over25</th>\n      <th>odds_ft_over35</th>\n      <th>odds_ft_over45</th>\n      <th>odds_btts_yes</th>\n      <th>odds_btts_no</th>\n      <th>stadium_name</th>\n    </tr>\n  </thead>\n  <tbody>\n    <tr>\n      <th>279</th>\n      <td>1551529800</td>\n      <td>Mar 02 2019 - 12:30pm</td>\n      <td>complete</td>\n      <td>81332</td>\n      <td>Tottenham Hotspur</td>\n      <td>Arsenal</td>\n      <td>Anthony Taylor</td>\n      <td>29</td>\n      <td>2.08</td>\n      <td>1.38</td>\n      <td>...</td>\n      <td>2.05</td>\n      <td>3.55</td>\n      <td>3.65</td>\n      <td>1.19</td>\n      <td>1.61</td>\n      <td>2.50</td>\n      <td>4.50</td>\n      <td>1.53</td>\n      <td>2.45</td>\n      <td>Wembley Stadium (London)</td>\n    </tr>\n    <tr>\n      <th>40</th>\n      <td>1537011000</td>\n      <td>Sep 15 2018 - 11:30am</td>\n      <td>complete</td>\n      <td>80188</td>\n      <td>Tottenham Hotspur</td>\n      <td>Liverpool</td>\n      <td>Michael Oliver</td>\n      <td>5</td>\n      <td>3.00</td>\n      <td>3.00</td>\n      <td>...</td>\n      <td>3.20</td>\n      <td>3.60</td>\n      <td>2.30</td>\n      <td>1.19</td>\n      <td>1.62</td>\n      <td>2.55</td>\n      <td>4.50</td>\n      <td>1.50</td>\n      <td>2.40</td>\n      <td>Wembley Stadium (London)</td>\n    </tr>\n    <tr>\n      <th>218</th>\n      <td>1547397000</td>\n      <td>Jan 13 2019 - 4:30pm</td>\n      <td>complete</td>\n      <td>80062</td>\n      <td>Tottenham Hotspur</td>\n      <td>Manchester United</td>\n      <td>Mike Dean</td>\n      <td>22</td>\n      <td>2.00</td>\n      <td>1.55</td>\n      <td>...</td>\n      <td>2.10</td>\n      <td>3.50</td>\n      <td>3.80</td>\n      <td>1.21</td>\n      <td>1.67</td>\n      <td>2.70</td>\n      <td>4.50</td>\n      <td>1.53</td>\n      <td>2.25</td>\n      <td>Wembley Stadium (London)</td>\n    </tr>\n    <tr>\n      <th>199</th>\n      <td>1546187400</td>\n      <td>Dec 30 2018 - 4:30pm</td>\n      <td>complete</td>\n      <td>74556</td>\n      <td>Manchester United</td>\n      <td>AFC Bournemouth</td>\n      <td>Lee Mason</td>\n      <td>20</td>\n      <td>2.00</td>\n      <td>1.00</td>\n      <td>...</td>\n      <td>1.43</td>\n      <td>5.30</td>\n      <td>7.00</td>\n      <td>1.16</td>\n      <td>1.53</td>\n      <td>2.30</td>\n      <td>4.40</td>\n      <td>1.71</td>\n      <td>1.91</td>\n      <td>Old Trafford (Manchester)</td>\n    </tr>\n    <tr>\n      <th>309</th>\n      <td>1553958000</td>\n      <td>Mar 30 2019 - 3:00pm</td>\n      <td>complete</td>\n      <td>74543</td>\n      <td>Manchester United</td>\n      <td>Watford</td>\n      <td>Stuart Attwell</td>\n      <td>32</td>\n      <td>2.07</td>\n      <td>1.25</td>\n      <td>...</td>\n      <td>1.44</td>\n      <td>4.75</td>\n      <td>7.50</td>\n      <td>1.20</td>\n      <td>1.62</td>\n      <td>2.60</td>\n      <td>4.45</td>\n      <td>1.80</td>\n      <td>2.00</td>\n      <td>Old Trafford (Manchester)</td>\n    </tr>\n    <tr>\n      <th>...</th>\n      <td>...</td>\n      <td>...</td>\n      <td>...</td>\n      <td>...</td>\n      <td>...</td>\n      <td>...</td>\n      <td>...</td>\n      <td>...</td>\n      <td>...</td>\n      <td>...</td>\n      <td>...</td>\n      <td>...</td>\n      <td>...</td>\n      <td>...</td>\n      <td>...</td>\n      <td>...</td>\n      <td>...</td>\n      <td>...</td>\n      <td>...</td>\n      <td>...</td>\n      <td>...</td>\n    </tr>\n    <tr>\n      <th>2</th>\n      <td>1533996000</td>\n      <td>Aug 11 2018 - 2:00pm</td>\n      <td>complete</td>\n      <td>10353</td>\n      <td>AFC Bournemouth</td>\n      <td>Cardiff City</td>\n      <td>Kevin Friend</td>\n      <td>1</td>\n      <td>0.00</td>\n      <td>0.00</td>\n      <td>...</td>\n      <td>2.03</td>\n      <td>3.51</td>\n      <td>3.96</td>\n      <td>1.31</td>\n      <td>1.95</td>\n      <td>3.45</td>\n      <td>6.70</td>\n      <td>1.83</td>\n      <td>1.83</td>\n      <td>Vitality Stadium (Bournemouth- Dorset)</td>\n    </tr>\n    <tr>\n      <th>207</th>\n      <td>1546459200</td>\n      <td>Jan 02 2019 - 8:00pm</td>\n      <td>complete</td>\n      <td>10261</td>\n      <td>AFC Bournemouth</td>\n      <td>Watford</td>\n      <td>David Coote</td>\n      <td>21</td>\n      <td>1.70</td>\n      <td>1.33</td>\n      <td>...</td>\n      <td>2.65</td>\n      <td>3.50</td>\n      <td>2.70</td>\n      <td>1.22</td>\n      <td>1.69</td>\n      <td>2.75</td>\n      <td>4.75</td>\n      <td>1.53</td>\n      <td>2.20</td>\n      <td>Vitality Stadium (Bournemouth- Dorset)</td>\n    </tr>\n    <tr>\n      <th>236</th>\n      <td>1548877500</td>\n      <td>Jan 30 2019 - 7:45pm</td>\n      <td>complete</td>\n      <td>10227</td>\n      <td>AFC Bournemouth</td>\n      <td>Chelsea</td>\n      <td>Roger East</td>\n      <td>24</td>\n      <td>1.75</td>\n      <td>2.00</td>\n      <td>...</td>\n      <td>5.35</td>\n      <td>4.15</td>\n      <td>1.67</td>\n      <td>1.22</td>\n      <td>1.69</td>\n      <td>2.75</td>\n      <td>4.75</td>\n      <td>1.71</td>\n      <td>2.10</td>\n      <td>Vitality Stadium (Bournemouth- Dorset)</td>\n    </tr>\n    <tr>\n      <th>69</th>\n      <td>1538420400</td>\n      <td>Oct 01 2018 - 7:00pm</td>\n      <td>complete</td>\n      <td>10199</td>\n      <td>AFC Bournemouth</td>\n      <td>Crystal Palace</td>\n      <td>Mike Dean</td>\n      <td>7</td>\n      <td>2.33</td>\n      <td>2.00</td>\n      <td>...</td>\n      <td>2.25</td>\n      <td>3.40</td>\n      <td>3.35</td>\n      <td>1.24</td>\n      <td>1.74</td>\n      <td>2.90</td>\n      <td>4.25</td>\n      <td>1.62</td>\n      <td>2.10</td>\n      <td>Vitality Stadium (Bournemouth- Dorset)</td>\n    </tr>\n    <tr>\n      <th>140</th>\n      <td>1543952700</td>\n      <td>Dec 04 2018 - 7:45pm</td>\n      <td>complete</td>\n      <td>9980</td>\n      <td>AFC Bournemouth</td>\n      <td>Huddersfield Town</td>\n      <td>Roger East</td>\n      <td>15</td>\n      <td>1.57</td>\n      <td>0.83</td>\n      <td>...</td>\n      <td>1.74</td>\n      <td>3.75</td>\n      <td>5.40</td>\n      <td>1.27</td>\n      <td>1.87</td>\n      <td>3.20</td>\n      <td>6.20</td>\n      <td>1.83</td>\n      <td>1.87</td>\n      <td>Vitality Stadium (Bournemouth- Dorset)</td>\n    </tr>\n  </tbody>\n</table>\n<p>380 rows × 64 columns</p>\n</div>"
     },
     "execution_count": 7,
     "metadata": {},
     "output_type": "execute_result"
    }
   ],
   "source": [
    "data.sort_values(by='attendance', ascending=False)"
   ],
   "metadata": {
    "collapsed": false,
    "pycharm": {
     "name": "#%%\n"
    }
   }
  },
  {
   "cell_type": "code",
   "execution_count": 8,
   "outputs": [],
   "source": [
    "data_stadium_group = data.groupby('stadium_name')"
   ],
   "metadata": {
    "collapsed": false,
    "pycharm": {
     "name": "#%%\n"
    }
   }
  },
  {
   "cell_type": "code",
   "execution_count": 9,
   "outputs": [],
   "source": [
    "attendance_summary = data_stadium_group['attendance'].describe().sort_values(by='mean', ascending=False)"
   ],
   "metadata": {
    "collapsed": false,
    "pycharm": {
     "name": "#%%\n"
    }
   }
  },
  {
   "cell_type": "code",
   "execution_count": 10,
   "outputs": [],
   "source": [
    "attendance_summary['max_minus_mean'] = attendance_summary['max'] - attendance_summary['mean']"
   ],
   "metadata": {
    "collapsed": false,
    "pycharm": {
     "name": "#%%\n"
    }
   }
  },
  {
   "cell_type": "code",
   "execution_count": 11,
   "outputs": [
    {
     "data": {
      "text/plain": "                                                    count          mean  \\\nstadium_name                                                              \nOld Trafford (Manchester)                            19.0  74498.473684   \nEmirates Stadium (London)                            19.0  59898.526316   \nTottenham Hotspur Stadium (London)                    5.0  58788.200000   \nLondon Stadium (London)                              19.0  58493.421053   \nEtihad Stadium (Manchester)                          19.0  54130.368421   \nAnfield (Liverpool)                                  19.0  52982.526316   \nWembley Stadium (London)                             14.0  52583.571429   \nSt. James' Park (Newcastle upon Tyne)                19.0  51120.894737   \nStamford Bridge (London)                             19.0  40441.421053   \nGoodison Park (Liverpool)                            19.0  39042.894737   \nKing Power Stadium (Leicester- Leicestershire)       19.0  31850.578947   \nCardiff City Stadium (Cardiff (Caerdydd))            19.0  31407.947368   \nMolineux Stadium (Wolverhampton- West Midlands)      19.0  31024.842105   \nThe American Express Community Stadium (Falmer-...   19.0  30435.000000   \nSt. Mary's Stadium (Southampton- Hampshire)          19.0  30082.684211   \nSelhurst Park (London)                               19.0  25454.947368   \nCraven Cottage (London)                              19.0  24371.105263   \nJohn Smith's Stadium (Huddersfield- West Yorksh...   19.0  23203.263158   \nTurf Moor (Burnley)                                  19.0  20534.105263   \nVicarage Road (Watford)                              19.0  20015.631579   \nVitality Stadium (Bournemouth- Dorset)               19.0  10531.947368   \n\n                                                             std      min  \\\nstadium_name                                                                \nOld Trafford (Manchester)                              42.693180  74400.0   \nEmirates Stadium (London)                             134.292950  59493.0   \nTottenham Hotspur Stadium (London)                   1597.577760  56251.0   \nLondon Stadium (London)                              1563.556605  56811.0   \nEtihad Stadium (Manchester)                           354.615474  53307.0   \nAnfield (Liverpool)                                   649.534822  50965.0   \nWembley Stadium (London)                            17175.273823  29164.0   \nSt. James' Park (Newcastle upon Tyne)                1233.544166  48323.0   \nStamford Bridge (London)                              466.083244  38593.0   \nGoodison Park (Liverpool)                             383.602064  38113.0   \nKing Power Stadium (Leicester- Leicestershire)        398.333377  30558.0   \nCardiff City Stadium (Cardiff (Caerdydd))            1187.909484  29402.0   \nMolineux Stadium (Wolverhampton- West Midlands)       371.111284  30130.0   \nThe American Express Community Stadium (Falmer-...    369.296027  29323.0   \nSt. Mary's Stadium (Southampton- Hampshire)          1584.429342  27077.0   \nSelhurst Park (London)                                327.435231  24738.0   \nCraven Cottage (London)                               888.916375  22008.0   \nJohn Smith's Stadium (Huddersfield- West Yorksh...   1705.621420  17082.0   \nTurf Moor (Burnley)                                  1119.154388  18497.0   \nVicarage Road (Watford)                               742.787259  17301.0   \nVitality Stadium (Bournemouth- Dorset)                246.663395   9980.0   \n\n                                                         25%      50%  \\\nstadium_name                                                            \nOld Trafford (Manchester)                           74468.50  74519.0   \nEmirates Stadium (London)                           59881.50  59933.0   \nTottenham Hotspur Stadium (London)                  58308.00  59215.0   \nLondon Stadium (London)                             56887.00  59870.0   \nEtihad Stadium (Manchester)                         53983.50  54171.0   \nAnfield (Liverpool)                                 53110.00  53249.0   \nWembley Stadium (London)                            42050.75  45755.0   \nSt. James' Park (Newcastle upon Tyne)               50276.00  51749.0   \nStamford Bridge (London)                            40491.00  40551.0   \nGoodison Park (Liverpool)                           38777.50  39161.0   \nKing Power Stadium (Leicester- Leicestershire)      31727.00  32017.0   \nCardiff City Stadium (Cardiff (Caerdydd))           30399.00  31849.0   \nMolineux Stadium (Wolverhampton- West Midlands)     30842.00  31147.0   \nThe American Express Community Stadium (Falmer-...  30437.00  30553.0   \nSt. Mary's Stadium (Southampton- Hampshire)         28918.00  30367.0   \nSelhurst Park (London)                              25199.50  25552.0   \nCraven Cottage (London)                             23951.50  24807.0   \nJohn Smith's Stadium (Huddersfield- West Yorksh...  22843.50  23885.0   \nTurf Moor (Burnley)                                 19551.50  20933.0   \nVicarage Road (Watford)                             20041.50  20141.0   \nVitality Stadium (Bournemouth- Dorset)              10399.50  10543.0   \n\n                                                         75%      max  \\\nstadium_name                                                            \nOld Trafford (Manchester)                           74525.50  74556.0   \nEmirates Stadium (London)                           59976.00  60030.0   \nTottenham Hotspur Stadium (London)                  60043.00  60124.0   \nLondon Stadium (London)                             59946.50  59988.0   \nEtihad Stadium (Manchester)                         54430.50  54511.0   \nAnfield (Liverpool)                                 53317.00  53373.0   \nWembley Stadium (London)                            57936.25  81332.0   \nSt. James' Park (Newcastle upon Tyne)               52169.50  52242.0   \nStamford Bridge (London)                            40634.00  40721.0   \nGoodison Park (Liverpool)                           39342.50  39400.0   \nKing Power Stadium (Leicester- Leicestershire)      32099.00  32184.0   \nCardiff City Stadium (Cardiff (Caerdydd))           32389.50  33082.0   \nMolineux Stadium (Wolverhampton- West Midlands)     31289.00  31436.0   \nThe American Express Community Stadium (Falmer-...  30622.00  30862.0   \nSt. Mary's Stadium (Southampton- Hampshire)         31409.50  31890.0   \nSelhurst Park (London)                              25719.50  25789.0   \nCraven Cottage (London)                             24990.00  25401.0   \nJohn Smith's Stadium (Huddersfield- West Yorksh...  24123.50  24263.0   \nTurf Moor (Burnley)                                 21470.50  21741.0   \nVicarage Road (Watford)                             20402.00  20540.0   \nVitality Stadium (Bournemouth- Dorset)              10685.00  10986.0   \n\n                                                    max_minus_mean  \nstadium_name                                                        \nOld Trafford (Manchester)                                57.526316  \nEmirates Stadium (London)                               131.473684  \nTottenham Hotspur Stadium (London)                     1335.800000  \nLondon Stadium (London)                                1494.578947  \nEtihad Stadium (Manchester)                             380.631579  \nAnfield (Liverpool)                                     390.473684  \nWembley Stadium (London)                              28748.428571  \nSt. James' Park (Newcastle upon Tyne)                  1121.105263  \nStamford Bridge (London)                                279.578947  \nGoodison Park (Liverpool)                               357.105263  \nKing Power Stadium (Leicester- Leicestershire)          333.421053  \nCardiff City Stadium (Cardiff (Caerdydd))              1674.052632  \nMolineux Stadium (Wolverhampton- West Midlands)         411.157895  \nThe American Express Community Stadium (Falmer-...      427.000000  \nSt. Mary's Stadium (Southampton- Hampshire)            1807.315789  \nSelhurst Park (London)                                  334.052632  \nCraven Cottage (London)                                1029.894737  \nJohn Smith's Stadium (Huddersfield- West Yorksh...     1059.736842  \nTurf Moor (Burnley)                                    1206.894737  \nVicarage Road (Watford)                                 524.368421  \nVitality Stadium (Bournemouth- Dorset)                  454.052632  ",
      "text/html": "<div>\n<style scoped>\n    .dataframe tbody tr th:only-of-type {\n        vertical-align: middle;\n    }\n\n    .dataframe tbody tr th {\n        vertical-align: top;\n    }\n\n    .dataframe thead th {\n        text-align: right;\n    }\n</style>\n<table border=\"1\" class=\"dataframe\">\n  <thead>\n    <tr style=\"text-align: right;\">\n      <th></th>\n      <th>count</th>\n      <th>mean</th>\n      <th>std</th>\n      <th>min</th>\n      <th>25%</th>\n      <th>50%</th>\n      <th>75%</th>\n      <th>max</th>\n      <th>max_minus_mean</th>\n    </tr>\n    <tr>\n      <th>stadium_name</th>\n      <th></th>\n      <th></th>\n      <th></th>\n      <th></th>\n      <th></th>\n      <th></th>\n      <th></th>\n      <th></th>\n      <th></th>\n    </tr>\n  </thead>\n  <tbody>\n    <tr>\n      <th>Old Trafford (Manchester)</th>\n      <td>19.0</td>\n      <td>74498.473684</td>\n      <td>42.693180</td>\n      <td>74400.0</td>\n      <td>74468.50</td>\n      <td>74519.0</td>\n      <td>74525.50</td>\n      <td>74556.0</td>\n      <td>57.526316</td>\n    </tr>\n    <tr>\n      <th>Emirates Stadium (London)</th>\n      <td>19.0</td>\n      <td>59898.526316</td>\n      <td>134.292950</td>\n      <td>59493.0</td>\n      <td>59881.50</td>\n      <td>59933.0</td>\n      <td>59976.00</td>\n      <td>60030.0</td>\n      <td>131.473684</td>\n    </tr>\n    <tr>\n      <th>Tottenham Hotspur Stadium (London)</th>\n      <td>5.0</td>\n      <td>58788.200000</td>\n      <td>1597.577760</td>\n      <td>56251.0</td>\n      <td>58308.00</td>\n      <td>59215.0</td>\n      <td>60043.00</td>\n      <td>60124.0</td>\n      <td>1335.800000</td>\n    </tr>\n    <tr>\n      <th>London Stadium (London)</th>\n      <td>19.0</td>\n      <td>58493.421053</td>\n      <td>1563.556605</td>\n      <td>56811.0</td>\n      <td>56887.00</td>\n      <td>59870.0</td>\n      <td>59946.50</td>\n      <td>59988.0</td>\n      <td>1494.578947</td>\n    </tr>\n    <tr>\n      <th>Etihad Stadium (Manchester)</th>\n      <td>19.0</td>\n      <td>54130.368421</td>\n      <td>354.615474</td>\n      <td>53307.0</td>\n      <td>53983.50</td>\n      <td>54171.0</td>\n      <td>54430.50</td>\n      <td>54511.0</td>\n      <td>380.631579</td>\n    </tr>\n    <tr>\n      <th>Anfield (Liverpool)</th>\n      <td>19.0</td>\n      <td>52982.526316</td>\n      <td>649.534822</td>\n      <td>50965.0</td>\n      <td>53110.00</td>\n      <td>53249.0</td>\n      <td>53317.00</td>\n      <td>53373.0</td>\n      <td>390.473684</td>\n    </tr>\n    <tr>\n      <th>Wembley Stadium (London)</th>\n      <td>14.0</td>\n      <td>52583.571429</td>\n      <td>17175.273823</td>\n      <td>29164.0</td>\n      <td>42050.75</td>\n      <td>45755.0</td>\n      <td>57936.25</td>\n      <td>81332.0</td>\n      <td>28748.428571</td>\n    </tr>\n    <tr>\n      <th>St. James' Park (Newcastle upon Tyne)</th>\n      <td>19.0</td>\n      <td>51120.894737</td>\n      <td>1233.544166</td>\n      <td>48323.0</td>\n      <td>50276.00</td>\n      <td>51749.0</td>\n      <td>52169.50</td>\n      <td>52242.0</td>\n      <td>1121.105263</td>\n    </tr>\n    <tr>\n      <th>Stamford Bridge (London)</th>\n      <td>19.0</td>\n      <td>40441.421053</td>\n      <td>466.083244</td>\n      <td>38593.0</td>\n      <td>40491.00</td>\n      <td>40551.0</td>\n      <td>40634.00</td>\n      <td>40721.0</td>\n      <td>279.578947</td>\n    </tr>\n    <tr>\n      <th>Goodison Park (Liverpool)</th>\n      <td>19.0</td>\n      <td>39042.894737</td>\n      <td>383.602064</td>\n      <td>38113.0</td>\n      <td>38777.50</td>\n      <td>39161.0</td>\n      <td>39342.50</td>\n      <td>39400.0</td>\n      <td>357.105263</td>\n    </tr>\n    <tr>\n      <th>King Power Stadium (Leicester- Leicestershire)</th>\n      <td>19.0</td>\n      <td>31850.578947</td>\n      <td>398.333377</td>\n      <td>30558.0</td>\n      <td>31727.00</td>\n      <td>32017.0</td>\n      <td>32099.00</td>\n      <td>32184.0</td>\n      <td>333.421053</td>\n    </tr>\n    <tr>\n      <th>Cardiff City Stadium (Cardiff (Caerdydd))</th>\n      <td>19.0</td>\n      <td>31407.947368</td>\n      <td>1187.909484</td>\n      <td>29402.0</td>\n      <td>30399.00</td>\n      <td>31849.0</td>\n      <td>32389.50</td>\n      <td>33082.0</td>\n      <td>1674.052632</td>\n    </tr>\n    <tr>\n      <th>Molineux Stadium (Wolverhampton- West Midlands)</th>\n      <td>19.0</td>\n      <td>31024.842105</td>\n      <td>371.111284</td>\n      <td>30130.0</td>\n      <td>30842.00</td>\n      <td>31147.0</td>\n      <td>31289.00</td>\n      <td>31436.0</td>\n      <td>411.157895</td>\n    </tr>\n    <tr>\n      <th>The American Express Community Stadium (Falmer- East Sussex)</th>\n      <td>19.0</td>\n      <td>30435.000000</td>\n      <td>369.296027</td>\n      <td>29323.0</td>\n      <td>30437.00</td>\n      <td>30553.0</td>\n      <td>30622.00</td>\n      <td>30862.0</td>\n      <td>427.000000</td>\n    </tr>\n    <tr>\n      <th>St. Mary's Stadium (Southampton- Hampshire)</th>\n      <td>19.0</td>\n      <td>30082.684211</td>\n      <td>1584.429342</td>\n      <td>27077.0</td>\n      <td>28918.00</td>\n      <td>30367.0</td>\n      <td>31409.50</td>\n      <td>31890.0</td>\n      <td>1807.315789</td>\n    </tr>\n    <tr>\n      <th>Selhurst Park (London)</th>\n      <td>19.0</td>\n      <td>25454.947368</td>\n      <td>327.435231</td>\n      <td>24738.0</td>\n      <td>25199.50</td>\n      <td>25552.0</td>\n      <td>25719.50</td>\n      <td>25789.0</td>\n      <td>334.052632</td>\n    </tr>\n    <tr>\n      <th>Craven Cottage (London)</th>\n      <td>19.0</td>\n      <td>24371.105263</td>\n      <td>888.916375</td>\n      <td>22008.0</td>\n      <td>23951.50</td>\n      <td>24807.0</td>\n      <td>24990.00</td>\n      <td>25401.0</td>\n      <td>1029.894737</td>\n    </tr>\n    <tr>\n      <th>John Smith's Stadium (Huddersfield- West Yorkshire)</th>\n      <td>19.0</td>\n      <td>23203.263158</td>\n      <td>1705.621420</td>\n      <td>17082.0</td>\n      <td>22843.50</td>\n      <td>23885.0</td>\n      <td>24123.50</td>\n      <td>24263.0</td>\n      <td>1059.736842</td>\n    </tr>\n    <tr>\n      <th>Turf Moor (Burnley)</th>\n      <td>19.0</td>\n      <td>20534.105263</td>\n      <td>1119.154388</td>\n      <td>18497.0</td>\n      <td>19551.50</td>\n      <td>20933.0</td>\n      <td>21470.50</td>\n      <td>21741.0</td>\n      <td>1206.894737</td>\n    </tr>\n    <tr>\n      <th>Vicarage Road (Watford)</th>\n      <td>19.0</td>\n      <td>20015.631579</td>\n      <td>742.787259</td>\n      <td>17301.0</td>\n      <td>20041.50</td>\n      <td>20141.0</td>\n      <td>20402.00</td>\n      <td>20540.0</td>\n      <td>524.368421</td>\n    </tr>\n    <tr>\n      <th>Vitality Stadium (Bournemouth- Dorset)</th>\n      <td>19.0</td>\n      <td>10531.947368</td>\n      <td>246.663395</td>\n      <td>9980.0</td>\n      <td>10399.50</td>\n      <td>10543.0</td>\n      <td>10685.00</td>\n      <td>10986.0</td>\n      <td>454.052632</td>\n    </tr>\n  </tbody>\n</table>\n</div>"
     },
     "execution_count": 11,
     "metadata": {},
     "output_type": "execute_result"
    }
   ],
   "source": [
    "attendance_summary"
   ],
   "metadata": {
    "collapsed": false,
    "pycharm": {
     "name": "#%%\n"
    }
   }
  },
  {
   "cell_type": "code",
   "execution_count": 12,
   "outputs": [
    {
     "data": {
      "text/plain": "372    8\n179    8\n220    7\n301    7\n222    7\n      ..\n53     0\n112    0\n93     0\n340    0\n23     0\nName: total_goal_count, Length: 380, dtype: int64"
     },
     "execution_count": 12,
     "metadata": {},
     "output_type": "execute_result"
    }
   ],
   "source": [
    "data['total_goal_count'].sort_values(ascending=False)"
   ],
   "metadata": {
    "collapsed": false,
    "pycharm": {
     "name": "#%%\n"
    }
   }
  },
  {
   "cell_type": "code",
   "execution_count": 13,
   "outputs": [
    {
     "data": {
      "text/plain": "timestamp                     1557669600\ndate_GMT            May 12 2019 - 2:00pm\nstatus                          complete\nattendance                         25433\nhome_team_name            Crystal Palace\n                           ...          \nodds_ft_over35                       2.3\nodds_ft_over45                       3.9\nodds_btts_yes                        1.5\nodds_btts_no                         2.5\nstadium_name      Selhurst Park (London)\nName: 372, Length: 64, dtype: object"
     },
     "execution_count": 13,
     "metadata": {},
     "output_type": "execute_result"
    }
   ],
   "source": [
    "data.iloc[372]"
   ],
   "metadata": {
    "collapsed": false,
    "pycharm": {
     "name": "#%%\n"
    }
   }
  },
  {
   "cell_type": "code",
   "execution_count": 14,
   "outputs": [],
   "source": [
    "man_u_filter = (data['home_team_name'] == 'Manchester United') | (data['away_team_name'] == 'Manchester United')"
   ],
   "metadata": {
    "collapsed": false,
    "pycharm": {
     "name": "#%%\n"
    }
   }
  },
  {
   "cell_type": "code",
   "execution_count": 15,
   "outputs": [],
   "source": [
    "man_u_data = data.loc[man_u_filter]"
   ],
   "metadata": {
    "collapsed": false,
    "pycharm": {
     "name": "#%%\n"
    }
   }
  },
  {
   "cell_type": "code",
   "execution_count": 16,
   "outputs": [
    {
     "data": {
      "text/plain": "count    38.000000\nmean      3.131579\nstd       1.398282\nmin       0.000000\n25%       2.000000\n50%       3.000000\n75%       4.000000\nmax       6.000000\nName: total_goal_count, dtype: float64"
     },
     "execution_count": 16,
     "metadata": {},
     "output_type": "execute_result"
    }
   ],
   "source": [
    "man_u_data['total_goal_count'].describe()"
   ],
   "metadata": {
    "collapsed": false,
    "pycharm": {
     "name": "#%%\n"
    }
   }
  },
  {
   "cell_type": "code",
   "execution_count": 16,
   "outputs": [],
   "source": [],
   "metadata": {
    "collapsed": false,
    "pycharm": {
     "name": "#%%\n"
    }
   }
  }
 ],
 "metadata": {
  "kernelspec": {
   "display_name": "Python 3",
   "language": "python",
   "name": "python3"
  },
  "language_info": {
   "codemirror_mode": {
    "name": "ipython",
    "version": 2
   },
   "file_extension": ".py",
   "mimetype": "text/x-python",
   "name": "python",
   "nbconvert_exporter": "python",
   "pygments_lexer": "ipython2",
   "version": "2.7.6"
  }
 },
 "nbformat": 4,
 "nbformat_minor": 0
}